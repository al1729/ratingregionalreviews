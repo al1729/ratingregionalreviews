{
 "cells": [
  {
   "cell_type": "code",
   "execution_count": 27,
   "id": "88d8adcf",
   "metadata": {},
   "outputs": [],
   "source": [
    "import json\n",
    "import nltk\n",
    "from nltk.tokenize import word_tokenize\n",
    "import pandas as pd\n",
    "import numpy as np\n",
    "import csv\n",
    "from gensim.models import Doc2Vec\n",
    "import gensim\n",
    "from gensim.models.doc2vec import TaggedDocument\n",
    "import copy"
   ]
  },
  {
   "cell_type": "code",
   "execution_count": 16,
   "id": "b53cf7f6",
   "metadata": {},
   "outputs": [
    {
     "name": "stderr",
     "output_type": "stream",
     "text": [
      "[nltk_data] Downloading package punkt to /Users/andyliu/nltk_data...\n",
      "[nltk_data]   Unzipping tokenizers/punkt.zip.\n"
     ]
    },
    {
     "data": {
      "text/plain": [
       "True"
      ]
     },
     "execution_count": 16,
     "metadata": {},
     "output_type": "execute_result"
    }
   ],
   "source": [
    "nltk.download('punkt')"
   ]
  },
  {
   "cell_type": "code",
   "execution_count": 6,
   "id": "ef80239b",
   "metadata": {},
   "outputs": [],
   "source": [
    "west = pd.read_json('/Users/andyliu/develop/ratingregionalreviews/WEST_data_mini.json', lines=True)\n",
    "east = pd.read_json('/Users/andyliu/develop/ratingregionalreviews/EAST_data_mini.json', lines=True)\n",
    "south = pd.read_json('/Users/andyliu/develop/ratingregionalreviews/SOUTH_data_mini.json', lines=True)\n",
    "midwest = pd.read_json('/Users/andyliu/develop/ratingregionalreviews/MIDWEST_data_mini.json', lines=True)"
   ]
  },
  {
   "cell_type": "code",
   "execution_count": 9,
   "id": "9795a0f1",
   "metadata": {},
   "outputs": [],
   "source": [
    "df_no_midwest = pd.concat([west, east, south])"
   ]
  },
  {
   "cell_type": "code",
   "execution_count": 10,
   "id": "0d0e5609",
   "metadata": {},
   "outputs": [],
   "source": [
    "texts = list(df_no_midwest['text'])"
   ]
  },
  {
   "cell_type": "code",
   "execution_count": 17,
   "id": "85faedde",
   "metadata": {},
   "outputs": [],
   "source": [
    "tagged_data = [TaggedDocument(words=word_tokenize(_d.lower()), tags=[str(i)]) for i, _d in enumerate(texts)]"
   ]
  },
  {
   "cell_type": "code",
   "execution_count": 18,
   "id": "fb7f81af",
   "metadata": {},
   "outputs": [
    {
     "name": "stdout",
     "output_type": "stream",
     "text": [
      "iteration 0\n",
      "Model Ready\n"
     ]
    }
   ],
   "source": [
    "max_epochs = 10\n",
    "vec_size = 5\n",
    "alpha = 0.025\n",
    "\n",
    "\n",
    "model = Doc2Vec(vector_size=vec_size, #it was size earlier\n",
    "                alpha=alpha, \n",
    "                min_alpha=0.00025,\n",
    "                min_count=1,\n",
    "                dm =1)\n",
    "\n",
    "model.build_vocab(tagged_data)\n",
    "\n",
    "for epoch in range(max_epochs):\n",
    "    if epoch % 10 == 0:\n",
    "        print('iteration {0}'.format(epoch))\n",
    "    model.train(tagged_data,\n",
    "                total_examples=model.corpus_count,\n",
    "                epochs=model.epochs) #It was model.iter earlier\n",
    "    # decrease the learning rate\n",
    "    model.alpha -= 0.0002\n",
    "    # fix the learning rate, no decay\n",
    "    model.min_alpha = model.alpha\n",
    "\n",
    "print(\"Model Ready\")"
   ]
  },
  {
   "cell_type": "code",
   "execution_count": 30,
   "id": "16773dfc",
   "metadata": {},
   "outputs": [],
   "source": [
    "def vectors(s):\n",
    "    text = s['text']\n",
    "    token = word_tokenize(text.lower())\n",
    "    v = model.infer_vector(test_data)\n",
    "    return v[0], v[1], v[2], v[3], v[4]"
   ]
  },
  {
   "cell_type": "code",
   "execution_count": 34,
   "id": "be14fcd7",
   "metadata": {},
   "outputs": [],
   "source": [
    "df_no_midwest_vec = copy.deepcopy(df_no_midwest)"
   ]
  },
  {
   "cell_type": "code",
   "execution_count": 35,
   "id": "4f4fc77f",
   "metadata": {},
   "outputs": [],
   "source": [
    "df_no_midwest_vec[['v1', 'v2', 'v3', 'v4', 'v5']] = df_no_midwest_vec.apply(vectors, axis=1, result_type=\"expand\")"
   ]
  },
  {
   "cell_type": "code",
   "execution_count": 36,
   "id": "1e3af704",
   "metadata": {},
   "outputs": [
    {
     "data": {
      "text/html": [
       "<div>\n",
       "<style scoped>\n",
       "    .dataframe tbody tr th:only-of-type {\n",
       "        vertical-align: middle;\n",
       "    }\n",
       "\n",
       "    .dataframe tbody tr th {\n",
       "        vertical-align: top;\n",
       "    }\n",
       "\n",
       "    .dataframe thead th {\n",
       "        text-align: right;\n",
       "    }\n",
       "</style>\n",
       "<table border=\"1\" class=\"dataframe\">\n",
       "  <thead>\n",
       "    <tr style=\"text-align: right;\">\n",
       "      <th></th>\n",
       "      <th>region</th>\n",
       "      <th>text</th>\n",
       "      <th>stars</th>\n",
       "      <th>v1</th>\n",
       "      <th>v2</th>\n",
       "      <th>v3</th>\n",
       "      <th>v4</th>\n",
       "      <th>v5</th>\n",
       "    </tr>\n",
       "  </thead>\n",
       "  <tbody>\n",
       "    <tr>\n",
       "      <th>0</th>\n",
       "      <td>WEST</td>\n",
       "      <td>This is a great bar that incorporates elements...</td>\n",
       "      <td>4</td>\n",
       "      <td>-0.095425</td>\n",
       "      <td>0.649100</td>\n",
       "      <td>0.106599</td>\n",
       "      <td>-0.699490</td>\n",
       "      <td>0.625229</td>\n",
       "    </tr>\n",
       "    <tr>\n",
       "      <th>1</th>\n",
       "      <td>WEST</td>\n",
       "      <td>This is a wonderful spot for brunch. The outdo...</td>\n",
       "      <td>5</td>\n",
       "      <td>-0.199985</td>\n",
       "      <td>0.814275</td>\n",
       "      <td>-0.150819</td>\n",
       "      <td>-0.556050</td>\n",
       "      <td>0.382525</td>\n",
       "    </tr>\n",
       "    <tr>\n",
       "      <th>2</th>\n",
       "      <td>WEST</td>\n",
       "      <td>We ordered Mark's Big Breakfast, I think it wa...</td>\n",
       "      <td>5</td>\n",
       "      <td>-0.029574</td>\n",
       "      <td>0.636968</td>\n",
       "      <td>-0.222279</td>\n",
       "      <td>-0.506376</td>\n",
       "      <td>0.728721</td>\n",
       "    </tr>\n",
       "    <tr>\n",
       "      <th>3</th>\n",
       "      <td>WEST</td>\n",
       "      <td>**Update-we were told someone would call us wi...</td>\n",
       "      <td>1</td>\n",
       "      <td>-0.132855</td>\n",
       "      <td>0.712116</td>\n",
       "      <td>-0.006350</td>\n",
       "      <td>-0.431171</td>\n",
       "      <td>0.763641</td>\n",
       "    </tr>\n",
       "    <tr>\n",
       "      <th>4</th>\n",
       "      <td>WEST</td>\n",
       "      <td>This is a fun casino with lots of carnival gam...</td>\n",
       "      <td>3</td>\n",
       "      <td>-0.028326</td>\n",
       "      <td>0.487402</td>\n",
       "      <td>-0.062310</td>\n",
       "      <td>-0.583112</td>\n",
       "      <td>0.510148</td>\n",
       "    </tr>\n",
       "  </tbody>\n",
       "</table>\n",
       "</div>"
      ],
      "text/plain": [
       "  region                                               text  stars        v1  \\\n",
       "0   WEST  This is a great bar that incorporates elements...      4 -0.095425   \n",
       "1   WEST  This is a wonderful spot for brunch. The outdo...      5 -0.199985   \n",
       "2   WEST  We ordered Mark's Big Breakfast, I think it wa...      5 -0.029574   \n",
       "3   WEST  **Update-we were told someone would call us wi...      1 -0.132855   \n",
       "4   WEST  This is a fun casino with lots of carnival gam...      3 -0.028326   \n",
       "\n",
       "         v2        v3        v4        v5  \n",
       "0  0.649100  0.106599 -0.699490  0.625229  \n",
       "1  0.814275 -0.150819 -0.556050  0.382525  \n",
       "2  0.636968 -0.222279 -0.506376  0.728721  \n",
       "3  0.712116 -0.006350 -0.431171  0.763641  \n",
       "4  0.487402 -0.062310 -0.583112  0.510148  "
      ]
     },
     "execution_count": 36,
     "metadata": {},
     "output_type": "execute_result"
    }
   ],
   "source": [
    "df_no_midwest_vec.head()"
   ]
  },
  {
   "cell_type": "code",
   "execution_count": 37,
   "id": "5e0e202d",
   "metadata": {},
   "outputs": [],
   "source": [
    "midwest_vec = midwest"
   ]
  },
  {
   "cell_type": "code",
   "execution_count": 38,
   "id": "5e55ad82",
   "metadata": {},
   "outputs": [],
   "source": [
    "midwest_vec[['v1', 'v2', 'v3', 'v4', 'v5']] = midwest_vec.apply(vectors, axis=1, result_type=\"expand\")"
   ]
  },
  {
   "cell_type": "code",
   "execution_count": 39,
   "id": "2858a25a",
   "metadata": {},
   "outputs": [
    {
     "data": {
      "text/html": [
       "<div>\n",
       "<style scoped>\n",
       "    .dataframe tbody tr th:only-of-type {\n",
       "        vertical-align: middle;\n",
       "    }\n",
       "\n",
       "    .dataframe tbody tr th {\n",
       "        vertical-align: top;\n",
       "    }\n",
       "\n",
       "    .dataframe thead th {\n",
       "        text-align: right;\n",
       "    }\n",
       "</style>\n",
       "<table border=\"1\" class=\"dataframe\">\n",
       "  <thead>\n",
       "    <tr style=\"text-align: right;\">\n",
       "      <th></th>\n",
       "      <th>region</th>\n",
       "      <th>text</th>\n",
       "      <th>stars</th>\n",
       "      <th>v1</th>\n",
       "      <th>v2</th>\n",
       "      <th>v3</th>\n",
       "      <th>v4</th>\n",
       "      <th>v5</th>\n",
       "    </tr>\n",
       "  </thead>\n",
       "  <tbody>\n",
       "    <tr>\n",
       "      <th>0</th>\n",
       "      <td>MIDWEST</td>\n",
       "      <td>Went to Crackers a few weeks back downtown.  T...</td>\n",
       "      <td>5</td>\n",
       "      <td>-0.328941</td>\n",
       "      <td>0.609768</td>\n",
       "      <td>-0.201188</td>\n",
       "      <td>-0.587899</td>\n",
       "      <td>0.787064</td>\n",
       "    </tr>\n",
       "    <tr>\n",
       "      <th>1</th>\n",
       "      <td>MIDWEST</td>\n",
       "      <td>Best ribs I've ever had! This place is amazing...</td>\n",
       "      <td>5</td>\n",
       "      <td>0.000717</td>\n",
       "      <td>0.672876</td>\n",
       "      <td>-0.029175</td>\n",
       "      <td>-0.737492</td>\n",
       "      <td>0.538635</td>\n",
       "    </tr>\n",
       "    <tr>\n",
       "      <th>2</th>\n",
       "      <td>MIDWEST</td>\n",
       "      <td>A friend and I ventured here in search of chip...</td>\n",
       "      <td>4</td>\n",
       "      <td>-0.303698</td>\n",
       "      <td>0.855629</td>\n",
       "      <td>-0.143217</td>\n",
       "      <td>-0.695547</td>\n",
       "      <td>0.451759</td>\n",
       "    </tr>\n",
       "    <tr>\n",
       "      <th>3</th>\n",
       "      <td>MIDWEST</td>\n",
       "      <td>The Meridian Street Post Office is up there wi...</td>\n",
       "      <td>2</td>\n",
       "      <td>0.017078</td>\n",
       "      <td>0.572000</td>\n",
       "      <td>-0.127240</td>\n",
       "      <td>-0.534910</td>\n",
       "      <td>0.686207</td>\n",
       "    </tr>\n",
       "    <tr>\n",
       "      <th>4</th>\n",
       "      <td>MIDWEST</td>\n",
       "      <td>About as bad of a Marriott experience I have e...</td>\n",
       "      <td>1</td>\n",
       "      <td>-0.088832</td>\n",
       "      <td>0.449444</td>\n",
       "      <td>-0.354896</td>\n",
       "      <td>-0.620470</td>\n",
       "      <td>0.600226</td>\n",
       "    </tr>\n",
       "  </tbody>\n",
       "</table>\n",
       "</div>"
      ],
      "text/plain": [
       "    region                                               text  stars  \\\n",
       "0  MIDWEST  Went to Crackers a few weeks back downtown.  T...      5   \n",
       "1  MIDWEST  Best ribs I've ever had! This place is amazing...      5   \n",
       "2  MIDWEST  A friend and I ventured here in search of chip...      4   \n",
       "3  MIDWEST  The Meridian Street Post Office is up there wi...      2   \n",
       "4  MIDWEST  About as bad of a Marriott experience I have e...      1   \n",
       "\n",
       "         v1        v2        v3        v4        v5  \n",
       "0 -0.328941  0.609768 -0.201188 -0.587899  0.787064  \n",
       "1  0.000717  0.672876 -0.029175 -0.737492  0.538635  \n",
       "2 -0.303698  0.855629 -0.143217 -0.695547  0.451759  \n",
       "3  0.017078  0.572000 -0.127240 -0.534910  0.686207  \n",
       "4 -0.088832  0.449444 -0.354896 -0.620470  0.600226  "
      ]
     },
     "execution_count": 39,
     "metadata": {},
     "output_type": "execute_result"
    }
   ],
   "source": [
    "midwest_vec.head()"
   ]
  },
  {
   "cell_type": "code",
   "execution_count": 68,
   "id": "aad24182",
   "metadata": {},
   "outputs": [],
   "source": [
    "from sklearn.ensemble import GradientBoostingRegressor\n",
    "from sklearn.metrics import mean_absolute_error\n",
    "from sklearn.model_selection import cross_val_score\n",
    "from sklearn.model_selection import RepeatedStratifiedKFold"
   ]
  },
  {
   "cell_type": "code",
   "execution_count": 44,
   "id": "fbb41f10",
   "metadata": {},
   "outputs": [],
   "source": [
    "X_train = df_no_midwest_vec.drop([\"region\", \"text\", \"stars\"], axis=1)\n",
    "Y_train = df_no_midwest_vec[\"stars\"]\n",
    "X_test = midwest_vec.drop([\"region\", \"text\", \"stars\"], axis=1)\n",
    "Y_test = midwest_vec[\"stars\"]"
   ]
  },
  {
   "cell_type": "code",
   "execution_count": 56,
   "id": "8d037a36",
   "metadata": {},
   "outputs": [],
   "source": [
    "model = GradientBoostingRegressor()"
   ]
  },
  {
   "cell_type": "code",
   "execution_count": 57,
   "id": "c09355cd",
   "metadata": {},
   "outputs": [
    {
     "data": {
      "text/plain": [
       "GradientBoostingRegressor()"
      ]
     },
     "execution_count": 57,
     "metadata": {},
     "output_type": "execute_result"
    }
   ],
   "source": [
    "model.fit(X_train, Y_train)"
   ]
  },
  {
   "cell_type": "code",
   "execution_count": 58,
   "id": "21d35764",
   "metadata": {},
   "outputs": [],
   "source": [
    "Y_pred = model.predict(X_test)"
   ]
  },
  {
   "cell_type": "code",
   "execution_count": 65,
   "id": "3775f891",
   "metadata": {},
   "outputs": [
    {
     "data": {
      "text/plain": [
       "1.261600551955837"
      ]
     },
     "execution_count": 65,
     "metadata": {},
     "output_type": "execute_result"
    }
   ],
   "source": [
    "mean_absolute_error(Y_pred, Y_test)"
   ]
  }
 ],
 "metadata": {
  "kernelspec": {
   "display_name": "Python 3",
   "language": "python",
   "name": "python3"
  },
  "language_info": {
   "codemirror_mode": {
    "name": "ipython",
    "version": 3
   },
   "file_extension": ".py",
   "mimetype": "text/x-python",
   "name": "python",
   "nbconvert_exporter": "python",
   "pygments_lexer": "ipython3",
   "version": "3.8.8"
  }
 },
 "nbformat": 4,
 "nbformat_minor": 5
}
